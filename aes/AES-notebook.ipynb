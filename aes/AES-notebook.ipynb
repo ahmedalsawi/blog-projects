{
 "cells": [
  {
   "cell_type": "code",
   "execution_count": 1,
   "metadata": {},
   "outputs": [],
   "source": [
    "import numpy as np\n"
   ]
  },
  {
   "cell_type": "code",
   "execution_count": 2,
   "metadata": {},
   "outputs": [
    {
     "data": {
      "text/plain": [
       "array([48, 49, 50, 51, 52, 53, 54, 55, 56, 57, 65, 66, 67, 68, 69, 70],\n",
       "      dtype=uint8)"
      ]
     },
     "execution_count": 2,
     "metadata": {},
     "output_type": "execute_result"
    }
   ],
   "source": [
    "# Input data in 128-bits\n",
    "A = bytearray(\"0123456789ABCDEF\",'utf-8')\n",
    "A = np.array(A)\n",
    "A"
   ]
  },
  {
   "cell_type": "code",
   "execution_count": 3,
   "metadata": {},
   "outputs": [
    {
     "data": {
      "text/plain": [
       "array([[ 99, 124, 119, 123, 242, 107, 111, 197,  48,   1, 103,  43, 254,\n",
       "        215, 171, 118],\n",
       "       [202, 130, 201, 125, 250,  89,  71, 240, 173, 212, 162, 175, 156,\n",
       "        164, 114, 192],\n",
       "       [183, 253, 147,  38,  54,  63, 247, 204,  52, 165, 229, 241, 113,\n",
       "        216,  49,  21],\n",
       "       [  4, 199,  35, 195,  24, 150,   5, 154,   7,  18, 128, 226, 235,\n",
       "         39, 178, 117],\n",
       "       [  9, 131,  44,  26,  27, 110,  90, 160,  82,  59, 214, 179,  41,\n",
       "        227,  47, 132],\n",
       "       [ 83, 209,   0, 237,  32, 252, 177,  91, 106, 203, 190,  57,  74,\n",
       "         76,  88, 207],\n",
       "       [208, 239, 170, 251,  67,  77,  51, 133,  69, 249,   2, 127,  80,\n",
       "         60, 159, 168],\n",
       "       [ 81, 163,  64, 143, 146, 157,  56, 245, 188, 182, 218,  33,  16,\n",
       "        255, 243, 210],\n",
       "       [205,  12,  19, 236,  95, 151,  68,  23, 196, 167, 126,  61, 100,\n",
       "         93,  25, 115],\n",
       "       [ 96, 129,  79, 220,  34,  42, 144, 136,  70, 238, 184,  20, 222,\n",
       "         94,  11, 219],\n",
       "       [224,  50,  58,  10,  73,   6,  36,  92, 194, 211, 172,  98, 145,\n",
       "        149, 228, 121],\n",
       "       [231, 200,  55, 109, 141, 213,  78, 169, 108,  86, 244, 234, 101,\n",
       "        122, 174,   8],\n",
       "       [186, 120,  37,  46,  28, 166, 180, 198, 232, 221, 116,  31,  75,\n",
       "        189, 139, 138],\n",
       "       [112,  62, 181, 102,  72,   3, 246,  14,  97,  53,  87, 185, 134,\n",
       "        193,  29, 158],\n",
       "       [225, 248, 152,  17, 105, 217, 142, 148, 155,  30, 135, 233, 206,\n",
       "         85,  40, 223],\n",
       "       [140, 161, 137,  13, 191, 230,  66, 104,  65, 153,  45,  15, 176,\n",
       "         84, 187,  22]])"
      ]
     },
     "execution_count": 3,
     "metadata": {},
     "output_type": "execute_result"
    }
   ],
   "source": [
    "# s_box layer\n",
    "s_box = (\n",
    "    0x63, 0x7C, 0x77, 0x7B, 0xF2, 0x6B, 0x6F, 0xC5, 0x30, 0x01, 0x67, 0x2B, 0xFE, 0xD7, 0xAB, 0x76,\n",
    "    0xCA, 0x82, 0xC9, 0x7D, 0xFA, 0x59, 0x47, 0xF0, 0xAD, 0xD4, 0xA2, 0xAF, 0x9C, 0xA4, 0x72, 0xC0,\n",
    "    0xB7, 0xFD, 0x93, 0x26, 0x36, 0x3F, 0xF7, 0xCC, 0x34, 0xA5, 0xE5, 0xF1, 0x71, 0xD8, 0x31, 0x15,\n",
    "    0x04, 0xC7, 0x23, 0xC3, 0x18, 0x96, 0x05, 0x9A, 0x07, 0x12, 0x80, 0xE2, 0xEB, 0x27, 0xB2, 0x75,\n",
    "    0x09, 0x83, 0x2C, 0x1A, 0x1B, 0x6E, 0x5A, 0xA0, 0x52, 0x3B, 0xD6, 0xB3, 0x29, 0xE3, 0x2F, 0x84,\n",
    "    0x53, 0xD1, 0x00, 0xED, 0x20, 0xFC, 0xB1, 0x5B, 0x6A, 0xCB, 0xBE, 0x39, 0x4A, 0x4C, 0x58, 0xCF,\n",
    "    0xD0, 0xEF, 0xAA, 0xFB, 0x43, 0x4D, 0x33, 0x85, 0x45, 0xF9, 0x02, 0x7F, 0x50, 0x3C, 0x9F, 0xA8,\n",
    "    0x51, 0xA3, 0x40, 0x8F, 0x92, 0x9D, 0x38, 0xF5, 0xBC, 0xB6, 0xDA, 0x21, 0x10, 0xFF, 0xF3, 0xD2,\n",
    "    0xCD, 0x0C, 0x13, 0xEC, 0x5F, 0x97, 0x44, 0x17, 0xC4, 0xA7, 0x7E, 0x3D, 0x64, 0x5D, 0x19, 0x73,\n",
    "    0x60, 0x81, 0x4F, 0xDC, 0x22, 0x2A, 0x90, 0x88, 0x46, 0xEE, 0xB8, 0x14, 0xDE, 0x5E, 0x0B, 0xDB,\n",
    "    0xE0, 0x32, 0x3A, 0x0A, 0x49, 0x06, 0x24, 0x5C, 0xC2, 0xD3, 0xAC, 0x62, 0x91, 0x95, 0xE4, 0x79,\n",
    "    0xE7, 0xC8, 0x37, 0x6D, 0x8D, 0xD5, 0x4E, 0xA9, 0x6C, 0x56, 0xF4, 0xEA, 0x65, 0x7A, 0xAE, 0x08,\n",
    "    0xBA, 0x78, 0x25, 0x2E, 0x1C, 0xA6, 0xB4, 0xC6, 0xE8, 0xDD, 0x74, 0x1F, 0x4B, 0xBD, 0x8B, 0x8A,\n",
    "    0x70, 0x3E, 0xB5, 0x66, 0x48, 0x03, 0xF6, 0x0E, 0x61, 0x35, 0x57, 0xB9, 0x86, 0xC1, 0x1D, 0x9E,\n",
    "    0xE1, 0xF8, 0x98, 0x11, 0x69, 0xD9, 0x8E, 0x94, 0x9B, 0x1E, 0x87, 0xE9, 0xCE, 0x55, 0x28, 0xDF,\n",
    "    0x8C, 0xA1, 0x89, 0x0D, 0xBF, 0xE6, 0x42, 0x68, 0x41, 0x99, 0x2D, 0x0F, 0xB0, 0x54, 0xBB, 0x16,\n",
    ")\n",
    "s_box = np.array(s_box).reshape(16,16)\n",
    "s_box"
   ]
  },
  {
   "cell_type": "code",
   "execution_count": 4,
   "metadata": {},
   "outputs": [
    {
     "data": {
      "text/plain": [
       "[4, 199, 35, 195, 24, 150, 5, 154, 7, 18, 131, 44, 26, 27, 110, 90]"
      ]
     },
     "execution_count": 4,
     "metadata": {},
     "output_type": "execute_result"
    }
   ],
   "source": [
    "def S(A):\n",
    "    (x, y) = (int((hex(A)[2])), int((hex(A)[3])))\n",
    "    return s_box[(x,y)]\n",
    "\n",
    "B = [(S(a)) for a in A ]\n",
    "B"
   ]
  },
  {
   "cell_type": "code",
   "execution_count": 43,
   "metadata": {},
   "outputs": [
    {
     "data": {
      "text/plain": [
       "array([[  4,  18,  35,  44],\n",
       "       [ 90,  24,  27,   5],\n",
       "       [131, 195,   7, 199],\n",
       "       [150, 110, 154,  26]])"
      ]
     },
     "execution_count": 43,
     "metadata": {},
     "output_type": "execute_result"
    }
   ],
   "source": [
    "# ShiftRows sublayer\n",
    "B = np.array(B).reshape(4,4)\n",
    "B = np.transpose(B)\n",
    "B"
   ]
  },
  {
   "cell_type": "code",
   "execution_count": 51,
   "metadata": {},
   "outputs": [
    {
     "data": {
      "text/plain": [
       "array([[  4,  18,  35,  44],\n",
       "       [ 24,  27,   5,  90],\n",
       "       [  7, 199, 131, 195],\n",
       "       [ 26, 150, 110, 154]])"
      ]
     },
     "execution_count": 51,
     "metadata": {},
     "output_type": "execute_result"
    }
   ],
   "source": [
    "\n",
    "B1 = np.arange(16).reshape(4,4)\n",
    "B1[0:1] = B[0:1]\n",
    "B1[1:2]  = np.roll(B[1:2],-1)\n",
    "B1[2:3]  = np.roll(B[2:3],-2)\n",
    "B1[3:4]  = np.roll(B[3:4],-3)\n",
    "B1"
   ]
  },
  {
   "cell_type": "code",
   "execution_count": 52,
   "metadata": {},
   "outputs": [
    {
     "data": {
      "text/plain": [
       "array([[2, 3, 1, 1],\n",
       "       [1, 2, 3, 1],\n",
       "       [1, 1, 2, 3],\n",
       "       [3, 1, 1, 2]])"
      ]
     },
     "execution_count": 52,
     "metadata": {},
     "output_type": "execute_result"
    }
   ],
   "source": [
    "coeff = (0x02, 0x03 , 0x01 , 0x01 , 0x01, 0x02, 0x03, 0x01, 0x01, 0x01, 0x02, 0x03, 0x03, 0x01, 0x01 , 0x02)\n",
    "coeff = np.array(coeff).reshape(4,4)\n",
    "coeff"
   ]
  },
  {
   "cell_type": "code",
   "execution_count": 63,
   "metadata": {},
   "outputs": [
    {
     "data": {
      "text/plain": [
       "array([[113],\n",
       "       [ 99],\n",
       "       [120],\n",
       "       [ 95]])"
      ]
     },
     "execution_count": 63,
     "metadata": {},
     "output_type": "execute_result"
    }
   ],
   "source": [
    "c0 = coeff.dot(B1[:,0].reshape(-1,1))\n",
    "c0"
   ]
  },
  {
   "cell_type": "code",
   "execution_count": null,
   "metadata": {},
   "outputs": [],
   "source": []
  }
 ],
 "metadata": {
  "kernelspec": {
   "display_name": "Python 3",
   "language": "python",
   "name": "python3"
  },
  "language_info": {
   "codemirror_mode": {
    "name": "ipython",
    "version": 3
   },
   "file_extension": ".py",
   "mimetype": "text/x-python",
   "name": "python",
   "nbconvert_exporter": "python",
   "pygments_lexer": "ipython3",
   "version": "3.8.2"
  }
 },
 "nbformat": 4,
 "nbformat_minor": 4
}
